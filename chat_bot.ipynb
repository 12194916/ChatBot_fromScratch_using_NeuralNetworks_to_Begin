{
 "cells": [
  {
   "cell_type": "code",
   "execution_count": 64,
   "id": "7b82b475",
   "metadata": {},
   "outputs": [],
   "source": [
    "import json\n",
    "import random\n",
    "import pickle\n",
    "import numpy as np\n",
    "import nltk\n",
    "from nltk.stem import WordNetLemmatizer\n",
    "from tensorflow.keras.models import load_model\n",
    "\n",
    "lemmatizer=WordNetLemmatizer()\n",
    "intents=json.loads(open('intents.json').read())\n",
    "\n",
    "words=pickle.load(open('words.pkl','rb'))\n",
    "classes=pickle.load(open('classes.pkl','rb'))\n",
    "model=load_model(\"chatbot_model.h5\")"
   ]
  },
  {
   "cell_type": "code",
   "execution_count": null,
   "id": "496da731",
   "metadata": {},
   "outputs": [
    {
     "name": "stdout",
     "output_type": "stream",
     "text": [
      "Goooooo\n",
      "hi\n",
      "1/1 [==============================] - 0s 84ms/step\n",
      "Good day! How can I help you?\n",
      "who are you man?\n",
      "1/1 [==============================] - 0s 82ms/step\n",
      "I am a machine, but you can ask me anything you want.\n",
      "tell me a joke\n",
      "1/1 [==============================] - 0s 83ms/step\n",
      "What do you call an alligator in a vest? An investigator.\n"
     ]
    }
   ],
   "source": [
    "def clean_up_sentence(sentence):\n",
    "    sentence_words=nltk.word_tokenize(sentence)\n",
    "    sentence_words=[lemmatizer.lemmatize(word) for word in sentence_words]\n",
    "    return sentence_words\n",
    "\n",
    "def bag_of_words(sentence):\n",
    "    sentence_words=clean_up_sentence(sentence)\n",
    "    bag=[0]*len(words)\n",
    "    for w in sentence_words:\n",
    "        for i, word in enumerate(words):\n",
    "            if word==w:\n",
    "                bag[i]=1\n",
    "    return np.array(bag)\n",
    "\n",
    "def predict_class(sentence):\n",
    "    bow=bag_of_words(sentence)\n",
    "    res=model.predict(np.array([bow]))[0]\n",
    "    ERROR_THRESHOLD=0.25\n",
    "    results=[[i,r] for i, r in enumerate(res) if r> ERROR_THRESHOLD]\n",
    "    \n",
    "    results.sort(key=lambda x: x[1],reverse=True)\n",
    "    return_list=[]\n",
    "    for r in results:\n",
    "        return_list.append({'intent': classes[r[0]], 'probability':str(r[1])})\n",
    "    return return_list\n",
    "\n",
    "def get_response(intents_list,intents_json):\n",
    "    tag=intents_list[0]['intent']\n",
    "    list_of_intents=intents_json['intents']\n",
    "    for i in list_of_intents:\n",
    "        if i['tag']==tag:\n",
    "            result=random.choice(i['responses'])\n",
    "            break\n",
    "    return result\n",
    "\n",
    "print(\"Goooooo\")\n",
    "\n",
    "while True:\n",
    "    message=input(\"\")\n",
    "    ints=predict_class(message)\n",
    "    res=get_response(ints,intents)\n",
    "    print(res)\n",
    "    "
   ]
  }
 ],
 "metadata": {
  "kernelspec": {
   "display_name": "Python 3 (ipykernel)",
   "language": "python",
   "name": "python3"
  },
  "language_info": {
   "codemirror_mode": {
    "name": "ipython",
    "version": 3
   },
   "file_extension": ".py",
   "mimetype": "text/x-python",
   "name": "python",
   "nbconvert_exporter": "python",
   "pygments_lexer": "ipython3",
   "version": "3.9.13"
  }
 },
 "nbformat": 4,
 "nbformat_minor": 5
}
